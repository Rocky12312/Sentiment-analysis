{
  "nbformat": 4,
  "nbformat_minor": 0,
  "metadata": {
    "colab": {
      "name": "Sentiment_extraction.ipynb",
      "provenance": [],
      "authorship_tag": "ABX9TyNeAm9EuGWA8xjBfozz9OB5",
      "include_colab_link": true
    },
    "kernelspec": {
      "name": "python3",
      "display_name": "Python 3"
    },
    "accelerator": "GPU"
  },
  "cells": [
    {
      "cell_type": "markdown",
      "metadata": {
        "id": "view-in-github",
        "colab_type": "text"
      },
      "source": [
        "<a href=\"https://colab.research.google.com/github/Rocky12312/Sentiment-analysis/blob/master/Sentiment_extraction.ipynb\" target=\"_parent\"><img src=\"https://colab.research.google.com/assets/colab-badge.svg\" alt=\"Open In Colab\"/></a>"
      ]
    },
    {
      "cell_type": "code",
      "metadata": {
        "id": "FHLkDu1mVohK",
        "colab_type": "code",
        "outputId": "aecad54c-51cb-4257-a95c-4573f6634e51",
        "colab": {
          "base_uri": "https://localhost:8080/",
          "height": 35
        }
      },
      "source": [
        "from google.colab import drive\n",
        "drive.mount(\"/content/drive\")"
      ],
      "execution_count": 1,
      "outputs": [
        {
          "output_type": "stream",
          "text": [
            "Drive already mounted at /content/drive; to attempt to forcibly remount, call drive.mount(\"/content/drive\", force_remount=True).\n"
          ],
          "name": "stdout"
        }
      ]
    },
    {
      "cell_type": "code",
      "metadata": {
        "id": "golT3kIgZcMF",
        "colab_type": "code",
        "outputId": "e925a5ab-0d37-4c4a-c254-c4e46fba016a",
        "colab": {
          "base_uri": "https://localhost:8080/",
          "height": 35
        }
      },
      "source": [
        "cd /content/drive/My\\ Drive/Tweet_sentiment_extraction/tse"
      ],
      "execution_count": 2,
      "outputs": [
        {
          "output_type": "stream",
          "text": [
            "/content/drive/My Drive/Tweet_sentiment_extraction/tse\n"
          ],
          "name": "stdout"
        }
      ]
    },
    {
      "cell_type": "code",
      "metadata": {
        "id": "P6CEPB5eZuAw",
        "colab_type": "code",
        "outputId": "25c8bfb0-55b8-4d09-9096-93952c9acc3f",
        "colab": {
          "base_uri": "https://localhost:8080/",
          "height": 366
        }
      },
      "source": [
        "pip install transformers"
      ],
      "execution_count": 3,
      "outputs": [
        {
          "output_type": "stream",
          "text": [
            "Requirement already satisfied: transformers in /usr/local/lib/python3.6/dist-packages (2.11.0)\n",
            "Requirement already satisfied: filelock in /usr/local/lib/python3.6/dist-packages (from transformers) (3.0.12)\n",
            "Requirement already satisfied: packaging in /usr/local/lib/python3.6/dist-packages (from transformers) (20.4)\n",
            "Requirement already satisfied: regex!=2019.12.17 in /usr/local/lib/python3.6/dist-packages (from transformers) (2019.12.20)\n",
            "Requirement already satisfied: requests in /usr/local/lib/python3.6/dist-packages (from transformers) (2.23.0)\n",
            "Requirement already satisfied: sacremoses in /usr/local/lib/python3.6/dist-packages (from transformers) (0.0.43)\n",
            "Requirement already satisfied: sentencepiece in /usr/local/lib/python3.6/dist-packages (from transformers) (0.1.91)\n",
            "Requirement already satisfied: numpy in /usr/local/lib/python3.6/dist-packages (from transformers) (1.18.4)\n",
            "Requirement already satisfied: tokenizers==0.7.0 in /usr/local/lib/python3.6/dist-packages (from transformers) (0.7.0)\n",
            "Requirement already satisfied: tqdm>=4.27 in /usr/local/lib/python3.6/dist-packages (from transformers) (4.41.1)\n",
            "Requirement already satisfied: dataclasses; python_version < \"3.7\" in /usr/local/lib/python3.6/dist-packages (from transformers) (0.7)\n",
            "Requirement already satisfied: pyparsing>=2.0.2 in /usr/local/lib/python3.6/dist-packages (from packaging->transformers) (2.4.7)\n",
            "Requirement already satisfied: six in /usr/local/lib/python3.6/dist-packages (from packaging->transformers) (1.12.0)\n",
            "Requirement already satisfied: idna<3,>=2.5 in /usr/local/lib/python3.6/dist-packages (from requests->transformers) (2.9)\n",
            "Requirement already satisfied: certifi>=2017.4.17 in /usr/local/lib/python3.6/dist-packages (from requests->transformers) (2020.4.5.1)\n",
            "Requirement already satisfied: urllib3!=1.25.0,!=1.25.1,<1.26,>=1.21.1 in /usr/local/lib/python3.6/dist-packages (from requests->transformers) (1.24.3)\n",
            "Requirement already satisfied: chardet<4,>=3.0.2 in /usr/local/lib/python3.6/dist-packages (from requests->transformers) (3.0.4)\n",
            "Requirement already satisfied: joblib in /usr/local/lib/python3.6/dist-packages (from sacremoses->transformers) (0.15.1)\n",
            "Requirement already satisfied: click in /usr/local/lib/python3.6/dist-packages (from sacremoses->transformers) (7.1.2)\n"
          ],
          "name": "stdout"
        }
      ]
    },
    {
      "cell_type": "code",
      "metadata": {
        "id": "nihLCsPY4jan",
        "colab_type": "code",
        "colab": {}
      },
      "source": [
        "import numpy as np\n",
        "import pandas as pd\n",
        "import matplotlib.pyplot as plt\n",
        "%matplotlib inline"
      ],
      "execution_count": 0,
      "outputs": []
    },
    {
      "cell_type": "markdown",
      "metadata": {
        "id": "sBjgW6225P04",
        "colab_type": "text"
      },
      "source": [
        "Reading the input dataframes"
      ]
    },
    {
      "cell_type": "code",
      "metadata": {
        "id": "G3VXmcYrZ5ip",
        "colab_type": "code",
        "colab": {}
      },
      "source": [
        "df_train = pd.read_csv(\"train.csv\")\n",
        "df_test = pd.read_csv(\"test.csv\")\n",
        "df_sample_submission = pd.read_csv(\"sample_submission.csv\")"
      ],
      "execution_count": 0,
      "outputs": []
    },
    {
      "cell_type": "code",
      "metadata": {
        "id": "0V7mDrtA5VVq",
        "colab_type": "code",
        "colab": {
          "base_uri": "https://localhost:8080/",
          "height": 206
        },
        "outputId": "8a73b1f0-536c-4af4-d4d8-13f59ccf0e98"
      },
      "source": [
        "df_train.head(5)"
      ],
      "execution_count": 6,
      "outputs": [
        {
          "output_type": "execute_result",
          "data": {
            "text/html": [
              "<div>\n",
              "<style scoped>\n",
              "    .dataframe tbody tr th:only-of-type {\n",
              "        vertical-align: middle;\n",
              "    }\n",
              "\n",
              "    .dataframe tbody tr th {\n",
              "        vertical-align: top;\n",
              "    }\n",
              "\n",
              "    .dataframe thead th {\n",
              "        text-align: right;\n",
              "    }\n",
              "</style>\n",
              "<table border=\"1\" class=\"dataframe\">\n",
              "  <thead>\n",
              "    <tr style=\"text-align: right;\">\n",
              "      <th></th>\n",
              "      <th>textID</th>\n",
              "      <th>text</th>\n",
              "      <th>selected_text</th>\n",
              "      <th>sentiment</th>\n",
              "    </tr>\n",
              "  </thead>\n",
              "  <tbody>\n",
              "    <tr>\n",
              "      <th>0</th>\n",
              "      <td>cb774db0d1</td>\n",
              "      <td>I`d have responded, if I were going</td>\n",
              "      <td>I`d have responded, if I were going</td>\n",
              "      <td>neutral</td>\n",
              "    </tr>\n",
              "    <tr>\n",
              "      <th>1</th>\n",
              "      <td>549e992a42</td>\n",
              "      <td>Sooo SAD I will miss you here in San Diego!!!</td>\n",
              "      <td>Sooo SAD</td>\n",
              "      <td>negative</td>\n",
              "    </tr>\n",
              "    <tr>\n",
              "      <th>2</th>\n",
              "      <td>088c60f138</td>\n",
              "      <td>my boss is bullying me...</td>\n",
              "      <td>bullying me</td>\n",
              "      <td>negative</td>\n",
              "    </tr>\n",
              "    <tr>\n",
              "      <th>3</th>\n",
              "      <td>9642c003ef</td>\n",
              "      <td>what interview! leave me alone</td>\n",
              "      <td>leave me alone</td>\n",
              "      <td>negative</td>\n",
              "    </tr>\n",
              "    <tr>\n",
              "      <th>4</th>\n",
              "      <td>358bd9e861</td>\n",
              "      <td>Sons of ****, why couldn`t they put them on t...</td>\n",
              "      <td>Sons of ****,</td>\n",
              "      <td>negative</td>\n",
              "    </tr>\n",
              "  </tbody>\n",
              "</table>\n",
              "</div>"
            ],
            "text/plain": [
              "       textID  ... sentiment\n",
              "0  cb774db0d1  ...   neutral\n",
              "1  549e992a42  ...  negative\n",
              "2  088c60f138  ...  negative\n",
              "3  9642c003ef  ...  negative\n",
              "4  358bd9e861  ...  negative\n",
              "\n",
              "[5 rows x 4 columns]"
            ]
          },
          "metadata": {
            "tags": []
          },
          "execution_count": 6
        }
      ]
    },
    {
      "cell_type": "code",
      "metadata": {
        "id": "7k_2cjJ05O6F",
        "colab_type": "code",
        "colab": {
          "base_uri": "https://localhost:8080/",
          "height": 206
        },
        "outputId": "fef75623-74d4-48cd-a614-650681c09737"
      },
      "source": [
        "df_test.head(5)"
      ],
      "execution_count": 7,
      "outputs": [
        {
          "output_type": "execute_result",
          "data": {
            "text/html": [
              "<div>\n",
              "<style scoped>\n",
              "    .dataframe tbody tr th:only-of-type {\n",
              "        vertical-align: middle;\n",
              "    }\n",
              "\n",
              "    .dataframe tbody tr th {\n",
              "        vertical-align: top;\n",
              "    }\n",
              "\n",
              "    .dataframe thead th {\n",
              "        text-align: right;\n",
              "    }\n",
              "</style>\n",
              "<table border=\"1\" class=\"dataframe\">\n",
              "  <thead>\n",
              "    <tr style=\"text-align: right;\">\n",
              "      <th></th>\n",
              "      <th>textID</th>\n",
              "      <th>text</th>\n",
              "      <th>sentiment</th>\n",
              "    </tr>\n",
              "  </thead>\n",
              "  <tbody>\n",
              "    <tr>\n",
              "      <th>0</th>\n",
              "      <td>f87dea47db</td>\n",
              "      <td>Last session of the day  http://twitpic.com/67ezh</td>\n",
              "      <td>neutral</td>\n",
              "    </tr>\n",
              "    <tr>\n",
              "      <th>1</th>\n",
              "      <td>96d74cb729</td>\n",
              "      <td>Shanghai is also really exciting (precisely -...</td>\n",
              "      <td>positive</td>\n",
              "    </tr>\n",
              "    <tr>\n",
              "      <th>2</th>\n",
              "      <td>eee518ae67</td>\n",
              "      <td>Recession hit Veronique Branquinho, she has to...</td>\n",
              "      <td>negative</td>\n",
              "    </tr>\n",
              "    <tr>\n",
              "      <th>3</th>\n",
              "      <td>01082688c6</td>\n",
              "      <td>happy bday!</td>\n",
              "      <td>positive</td>\n",
              "    </tr>\n",
              "    <tr>\n",
              "      <th>4</th>\n",
              "      <td>33987a8ee5</td>\n",
              "      <td>http://twitpic.com/4w75p - I like it!!</td>\n",
              "      <td>positive</td>\n",
              "    </tr>\n",
              "  </tbody>\n",
              "</table>\n",
              "</div>"
            ],
            "text/plain": [
              "       textID                                               text sentiment\n",
              "0  f87dea47db  Last session of the day  http://twitpic.com/67ezh   neutral\n",
              "1  96d74cb729   Shanghai is also really exciting (precisely -...  positive\n",
              "2  eee518ae67  Recession hit Veronique Branquinho, she has to...  negative\n",
              "3  01082688c6                                        happy bday!  positive\n",
              "4  33987a8ee5             http://twitpic.com/4w75p - I like it!!  positive"
            ]
          },
          "metadata": {
            "tags": []
          },
          "execution_count": 7
        }
      ]
    },
    {
      "cell_type": "code",
      "metadata": {
        "id": "cS33Hw6E5gHv",
        "colab_type": "code",
        "colab": {
          "base_uri": "https://localhost:8080/",
          "height": 206
        },
        "outputId": "39dc43d2-8d8e-4788-bab7-fcaa913476ee"
      },
      "source": [
        "df_sample_submission.head(5)"
      ],
      "execution_count": 8,
      "outputs": [
        {
          "output_type": "execute_result",
          "data": {
            "text/html": [
              "<div>\n",
              "<style scoped>\n",
              "    .dataframe tbody tr th:only-of-type {\n",
              "        vertical-align: middle;\n",
              "    }\n",
              "\n",
              "    .dataframe tbody tr th {\n",
              "        vertical-align: top;\n",
              "    }\n",
              "\n",
              "    .dataframe thead th {\n",
              "        text-align: right;\n",
              "    }\n",
              "</style>\n",
              "<table border=\"1\" class=\"dataframe\">\n",
              "  <thead>\n",
              "    <tr style=\"text-align: right;\">\n",
              "      <th></th>\n",
              "      <th>textID</th>\n",
              "      <th>selected_text</th>\n",
              "    </tr>\n",
              "  </thead>\n",
              "  <tbody>\n",
              "    <tr>\n",
              "      <th>0</th>\n",
              "      <td>f87dea47db</td>\n",
              "      <td>NaN</td>\n",
              "    </tr>\n",
              "    <tr>\n",
              "      <th>1</th>\n",
              "      <td>96d74cb729</td>\n",
              "      <td>NaN</td>\n",
              "    </tr>\n",
              "    <tr>\n",
              "      <th>2</th>\n",
              "      <td>eee518ae67</td>\n",
              "      <td>NaN</td>\n",
              "    </tr>\n",
              "    <tr>\n",
              "      <th>3</th>\n",
              "      <td>01082688c6</td>\n",
              "      <td>NaN</td>\n",
              "    </tr>\n",
              "    <tr>\n",
              "      <th>4</th>\n",
              "      <td>33987a8ee5</td>\n",
              "      <td>NaN</td>\n",
              "    </tr>\n",
              "  </tbody>\n",
              "</table>\n",
              "</div>"
            ],
            "text/plain": [
              "       textID  selected_text\n",
              "0  f87dea47db            NaN\n",
              "1  96d74cb729            NaN\n",
              "2  eee518ae67            NaN\n",
              "3  01082688c6            NaN\n",
              "4  33987a8ee5            NaN"
            ]
          },
          "metadata": {
            "tags": []
          },
          "execution_count": 8
        }
      ]
    },
    {
      "cell_type": "markdown",
      "metadata": {
        "id": "g-ZulENF5lQW",
        "colab_type": "text"
      },
      "source": [
        "Basically in this problem what we have to do is to train a model on our training data such that we can find the selected_text data column corresponding to our test data which is basically the part of sentiment text, which help in determination whether our sentiment is neutral,positive or negative.\n",
        "\n",
        "This is like question answering task."
      ]
    },
    {
      "cell_type": "markdown",
      "metadata": {
        "id": "79ZLJ9qx6anv",
        "colab_type": "text"
      },
      "source": [
        "Getting the info about the dataframes"
      ]
    },
    {
      "cell_type": "code",
      "metadata": {
        "id": "ei_0VUI75kVv",
        "colab_type": "code",
        "colab": {
          "base_uri": "https://localhost:8080/",
          "height": 219
        },
        "outputId": "6d765705-aeb7-4420-b16b-da2b59b7129f"
      },
      "source": [
        "df_train.info()"
      ],
      "execution_count": 9,
      "outputs": [
        {
          "output_type": "stream",
          "text": [
            "<class 'pandas.core.frame.DataFrame'>\n",
            "RangeIndex: 27481 entries, 0 to 27480\n",
            "Data columns (total 4 columns):\n",
            " #   Column         Non-Null Count  Dtype \n",
            "---  ------         --------------  ----- \n",
            " 0   textID         27481 non-null  object\n",
            " 1   text           27480 non-null  object\n",
            " 2   selected_text  27480 non-null  object\n",
            " 3   sentiment      27481 non-null  object\n",
            "dtypes: object(4)\n",
            "memory usage: 858.9+ KB\n"
          ],
          "name": "stdout"
        }
      ]
    },
    {
      "cell_type": "code",
      "metadata": {
        "id": "KerXqksH6iQx",
        "colab_type": "code",
        "colab": {
          "base_uri": "https://localhost:8080/",
          "height": 201
        },
        "outputId": "ba3755cc-1df9-4401-ba35-55ee58d3807d"
      },
      "source": [
        "df_test.info()"
      ],
      "execution_count": 10,
      "outputs": [
        {
          "output_type": "stream",
          "text": [
            "<class 'pandas.core.frame.DataFrame'>\n",
            "RangeIndex: 3534 entries, 0 to 3533\n",
            "Data columns (total 3 columns):\n",
            " #   Column     Non-Null Count  Dtype \n",
            "---  ------     --------------  ----- \n",
            " 0   textID     3534 non-null   object\n",
            " 1   text       3534 non-null   object\n",
            " 2   sentiment  3534 non-null   object\n",
            "dtypes: object(3)\n",
            "memory usage: 83.0+ KB\n"
          ],
          "name": "stdout"
        }
      ]
    },
    {
      "cell_type": "code",
      "metadata": {
        "id": "z6A3lSE-6lPP",
        "colab_type": "code",
        "colab": {
          "base_uri": "https://localhost:8080/",
          "height": 109
        },
        "outputId": "93b793dd-f868-4eb3-cd7b-cb14b3786c5d"
      },
      "source": [
        "df_train.isnull().sum()"
      ],
      "execution_count": 11,
      "outputs": [
        {
          "output_type": "execute_result",
          "data": {
            "text/plain": [
              "textID           0\n",
              "text             1\n",
              "selected_text    1\n",
              "sentiment        0\n",
              "dtype: int64"
            ]
          },
          "metadata": {
            "tags": []
          },
          "execution_count": 11
        }
      ]
    },
    {
      "cell_type": "markdown",
      "metadata": {
        "id": "_vioXNNV7CqO",
        "colab_type": "text"
      },
      "source": [
        "As we know that we have the text and selected_text column are of type string so better is to convert them to string type. "
      ]
    },
    {
      "cell_type": "code",
      "metadata": {
        "id": "xnlP_IXa61Oz",
        "colab_type": "code",
        "colab": {}
      },
      "source": [
        "df_train[\"text\"] = df_train[\"text\"].astype(str)\n",
        "df_train[\"selected_text\"] = df_train[\"selected_text\"].astype(str)\n",
        "df_train[\"sentiment\"] = df_train[\"sentiment\"].astype(str)"
      ],
      "execution_count": 0,
      "outputs": []
    },
    {
      "cell_type": "code",
      "metadata": {
        "id": "YU8LtSliDuQg",
        "colab_type": "code",
        "colab": {}
      },
      "source": [
        "df_test[\"text\"] = df_test[\"text\"].astype(str)\n",
        "df_test[\"sentiment\"] = df_test[\"sentiment\"].astype(str)"
      ],
      "execution_count": 0,
      "outputs": []
    },
    {
      "cell_type": "code",
      "metadata": {
        "id": "8eDbR7kz7v1F",
        "colab_type": "code",
        "colab": {
          "base_uri": "https://localhost:8080/",
          "height": 109
        },
        "outputId": "ee72315e-0837-4deb-af2a-cf735bf368dc"
      },
      "source": [
        "df_train.isnull().sum()"
      ],
      "execution_count": 14,
      "outputs": [
        {
          "output_type": "execute_result",
          "data": {
            "text/plain": [
              "textID           0\n",
              "text             0\n",
              "selected_text    0\n",
              "sentiment        0\n",
              "dtype: int64"
            ]
          },
          "metadata": {
            "tags": []
          },
          "execution_count": 14
        }
      ]
    },
    {
      "cell_type": "code",
      "metadata": {
        "id": "4nzxIkWO7153",
        "colab_type": "code",
        "colab": {}
      },
      "source": [
        "import re\n",
        "import string\n",
        "import nltk\n",
        "from nltk.corpus import stopwords\n",
        "\n",
        "#Cleaning the text\n",
        "def Cleaning_text(text_data):\n",
        "  for i in range(len(text_data)):\n",
        "    #Lowering the text and removing all the hypertexts\n",
        "    text = text_data[i].lower()\n",
        "    text = re.sub(r\"https?://www\\.\\S+\\.com\",\"\",text)\n",
        "    #Splitting the text into tokens\n",
        "    tokens = text.split()\n",
        "    #Preparing regex for character filtering\n",
        "    re_punct = re.compile(\"[%s]\"% re.escape(string.punctuation))\n",
        "    tokens = [re_punct.sub(\" \", word) for word in tokens]\n",
        "    #Now joining tokens back to form sentence\n",
        "    text_data[i] = \" \".join(tokens)\n",
        "  return text_data"
      ],
      "execution_count": 0,
      "outputs": []
    },
    {
      "cell_type": "code",
      "metadata": {
        "id": "_4yhcFHW8BUb",
        "colab_type": "code",
        "colab": {}
      },
      "source": [
        "df_train[\"text\"] = Cleaning_text(df_train[\"text\"])"
      ],
      "execution_count": 0,
      "outputs": []
    },
    {
      "cell_type": "code",
      "metadata": {
        "id": "K0xMD5gf8EQq",
        "colab_type": "code",
        "colab": {}
      },
      "source": [
        "df_train[\"selected_text\"] = Cleaning_text(df_train[\"selected_text\"])"
      ],
      "execution_count": 0,
      "outputs": []
    },
    {
      "cell_type": "markdown",
      "metadata": {
        "id": "912TGsib8Yem",
        "colab_type": "text"
      },
      "source": [
        "Now as our data is tweet data so it is very much possible that data will be containing links, Shortforms, Contractions along with usual textual noise so one of our main step will be text cleaning.\n",
        "\n",
        "Mainly we will be cleaning the text and selected text column as for our sentiment column we only need to encode it."
      ]
    },
    {
      "cell_type": "code",
      "metadata": {
        "id": "jsnSEOFZ8TjW",
        "colab_type": "code",
        "colab": {
          "base_uri": "https://localhost:8080/",
          "height": 90
        },
        "outputId": "5446f59b-ac85-428c-cca7-656b80fd4449"
      },
      "source": [
        "df_train[\"sentiment\"].value_counts()"
      ],
      "execution_count": 18,
      "outputs": [
        {
          "output_type": "execute_result",
          "data": {
            "text/plain": [
              "neutral     11118\n",
              "positive     8582\n",
              "negative     7781\n",
              "Name: sentiment, dtype: int64"
            ]
          },
          "metadata": {
            "tags": []
          },
          "execution_count": 18
        }
      ]
    },
    {
      "cell_type": "markdown",
      "metadata": {
        "id": "g5uOL-mG8p79",
        "colab_type": "text"
      },
      "source": [
        "Plotting the classwise counts of sentiments from training and testing data"
      ]
    },
    {
      "cell_type": "code",
      "metadata": {
        "id": "wAMxrUm58iqc",
        "colab_type": "code",
        "colab": {
          "base_uri": "https://localhost:8080/",
          "height": 322
        },
        "outputId": "1764e235-b5b4-425a-a5a3-53d520363c9f"
      },
      "source": [
        "import seaborn as sns\n",
        "sns.set(style = \"darkgrid\")\n",
        "ax = sns.countplot(x = \"sentiment\",data = df_train)"
      ],
      "execution_count": 19,
      "outputs": [
        {
          "output_type": "stream",
          "text": [
            "/usr/local/lib/python3.6/dist-packages/statsmodels/tools/_testing.py:19: FutureWarning: pandas.util.testing is deprecated. Use the functions in the public API at pandas.testing instead.\n",
            "  import pandas.util.testing as tm\n"
          ],
          "name": "stderr"
        },
        {
          "output_type": "display_data",
          "data": {
            "image/png": "[encoded data removed]",
            "text/plain": [
              "<Figure size 432x288 with 1 Axes>"
            ]
          },
          "metadata": {
            "tags": []
          }
        }
      ]
    },
    {
      "cell_type": "code",
      "metadata": {
        "id": "vZqyOxx985Uy",
        "colab_type": "code",
        "colab": {
          "base_uri": "https://localhost:8080/",
          "height": 285
        },
        "outputId": "32304b0c-89d6-475c-9716-2ff56c6891d1"
      },
      "source": [
        "ax1 = sns.countplot(x = \"sentiment\",data = df_test)"
      ],
      "execution_count": 20,
      "outputs": [
        {
          "output_type": "display_data",
          "data": {
            "image/png": "[encoded data removed]",
            "text/plain": [
              "<Figure size 432x288 with 1 Axes>"
            ]
          },
          "metadata": {
            "tags": []
          }
        }
      ]
    },
    {
      "cell_type": "markdown",
      "metadata": {
        "id": "olvTbT9Y9C-A",
        "colab_type": "text"
      },
      "source": [
        "From the above plots it is clear that we have imbalanced data both in our training and testing data but as our task is not to predict the labels but to extract the selected_text from text which help in providing sentiment so we will not go for balancing the dataset."
      ]
    },
    {
      "cell_type": "code",
      "metadata": {
        "id": "QXGvux_eBht-",
        "colab_type": "code",
        "colab": {
          "base_uri": "https://localhost:8080/",
          "height": 206
        },
        "outputId": "2504589c-30b9-402a-ebc2-04891ffc3f06"
      },
      "source": [
        "df_train.head(5)"
      ],
      "execution_count": 21,
      "outputs": [
        {
          "output_type": "execute_result",
          "data": {
            "text/html": [
              "<div>\n",
              "<style scoped>\n",
              "    .dataframe tbody tr th:only-of-type {\n",
              "        vertical-align: middle;\n",
              "    }\n",
              "\n",
              "    .dataframe tbody tr th {\n",
              "        vertical-align: top;\n",
              "    }\n",
              "\n",
              "    .dataframe thead th {\n",
              "        text-align: right;\n",
              "    }\n",
              "</style>\n",
              "<table border=\"1\" class=\"dataframe\">\n",
              "  <thead>\n",
              "    <tr style=\"text-align: right;\">\n",
              "      <th></th>\n",
              "      <th>textID</th>\n",
              "      <th>text</th>\n",
              "      <th>selected_text</th>\n",
              "      <th>sentiment</th>\n",
              "    </tr>\n",
              "  </thead>\n",
              "  <tbody>\n",
              "    <tr>\n",
              "      <th>0</th>\n",
              "      <td>cb774db0d1</td>\n",
              "      <td>i d have responded  if i were going</td>\n",
              "      <td>i d have responded  if i were going</td>\n",
              "      <td>neutral</td>\n",
              "    </tr>\n",
              "    <tr>\n",
              "      <th>1</th>\n",
              "      <td>549e992a42</td>\n",
              "      <td>sooo sad i will miss you here in san diego</td>\n",
              "      <td>sooo sad</td>\n",
              "      <td>negative</td>\n",
              "    </tr>\n",
              "    <tr>\n",
              "      <th>2</th>\n",
              "      <td>088c60f138</td>\n",
              "      <td>my boss is bullying me</td>\n",
              "      <td>bullying me</td>\n",
              "      <td>negative</td>\n",
              "    </tr>\n",
              "    <tr>\n",
              "      <th>3</th>\n",
              "      <td>9642c003ef</td>\n",
              "      <td>what interview  leave me alone</td>\n",
              "      <td>leave me alone</td>\n",
              "      <td>negative</td>\n",
              "    </tr>\n",
              "    <tr>\n",
              "      <th>4</th>\n",
              "      <td>358bd9e861</td>\n",
              "      <td>sons of       why couldn t they put them on th...</td>\n",
              "      <td>sons of</td>\n",
              "      <td>negative</td>\n",
              "    </tr>\n",
              "  </tbody>\n",
              "</table>\n",
              "</div>"
            ],
            "text/plain": [
              "       textID  ... sentiment\n",
              "0  cb774db0d1  ...   neutral\n",
              "1  549e992a42  ...  negative\n",
              "2  088c60f138  ...  negative\n",
              "3  9642c003ef  ...  negative\n",
              "4  358bd9e861  ...  negative\n",
              "\n",
              "[5 rows x 4 columns]"
            ]
          },
          "metadata": {
            "tags": []
          },
          "execution_count": 21
        }
      ]
    },
    {
      "cell_type": "markdown",
      "metadata": {
        "id": "MiRe3YtR9RKE",
        "colab_type": "text"
      },
      "source": [
        "So as we have preprocessed our data so now what we will do is manipulate our data in such a way that so that we can feed it to our model(roBERTa)."
      ]
    },
    {
      "cell_type": "code",
      "metadata": {
        "id": "rSXEtkx6aJYB",
        "colab_type": "code",
        "colab": {}
      },
      "source": [
        "from transformers import *\n",
        "import tokenizers\n",
        "\n",
        "#Model max length\n",
        "MAX_LEN = 140\n",
        "PATH = \"../tse/tf-roberta/\"\n",
        "#Creating the tokenizer\n",
        "tokenizer = tokenizers.ByteLevelBPETokenizer(\n",
        "    vocab_file=PATH+\"vocab-roberta-base.json\", \n",
        "    merges_file=PATH+\"merges-roberta-base.txt\", \n",
        "    lowercase=True,\n",
        "    add_prefix_space=True\n",
        ")\n",
        "sentiment_id = {\"positive\": 1313,\"negative\": 2430, \"neutral\": 7974}"
      ],
      "execution_count": 0,
      "outputs": []
    },
    {
      "cell_type": "code",
      "metadata": {
        "id": "Ih_9ul9_-lYB",
        "colab_type": "code",
        "colab": {
          "base_uri": "https://localhost:8080/",
          "height": 35
        },
        "outputId": "08008d7e-3a0b-4dbd-cfb9-ca66ff3dbcfa"
      },
      "source": [
        "df_train.shape[0]"
      ],
      "execution_count": 23,
      "outputs": [
        {
          "output_type": "execute_result",
          "data": {
            "text/plain": [
              "27481"
            ]
          },
          "metadata": {
            "tags": []
          },
          "execution_count": 23
        }
      ]
    },
    {
      "cell_type": "markdown",
      "metadata": {
        "id": "G57mt42HAHUZ",
        "colab_type": "text"
      },
      "source": [
        "We will now convert the training data into arrays that roBERTa can understand."
      ]
    },
    {
      "cell_type": "code",
      "metadata": {
        "id": "irCb9HIaaPbe",
        "colab_type": "code",
        "colab": {}
      },
      "source": [
        "input_ids = np.ones((df_train.shape[0],MAX_LEN),dtype=\"int32\")\n",
        "attention_mask = np.zeros((df_train.shape[0],MAX_LEN),dtype=\"int32\")\n",
        "token_type_ids = np.zeros((df_train.shape[0],MAX_LEN),dtype=\"int32\")\n",
        "start_tokens = np.zeros((df_train.shape[0],MAX_LEN),dtype=\"int32\")\n",
        "end_tokens = np.zeros((df_train.shape[0],MAX_LEN),dtype=\"int32\")"
      ],
      "execution_count": 0,
      "outputs": []
    },
    {
      "cell_type": "code",
      "metadata": {
        "id": "Wz7xlv4hbXXr",
        "colab_type": "code",
        "colab": {}
      },
      "source": [
        "for k in range(df_train.shape[0]):\n",
        "    \n",
        "    #Finding the text1 and text2 overlap(text and selected_text)\n",
        "    text1 = \" \"+\" \".join(df_train.loc[k,\"text\"].split())\n",
        "    text2 = \" \".join(df_train.loc[k,\"selected_text\"].split())\n",
        "    #Finding text2 starting id in text1(selected_text in text)\n",
        "    idx = text1.find(text2)\n",
        "    #Creating a chars array and imputing it with ones and zeros corresponding to idx\n",
        "    chars = np.zeros((len(text1)))\n",
        "    chars[idx:idx+len(text2)]=1\n",
        "    if text1[idx-1]==\" \": chars[idx-1] = 1 \n",
        "    enc = tokenizer.encode(text1) \n",
        "        \n",
        "    #ID_OFFSETS\n",
        "    offsets = []; idx=0\n",
        "    for t in enc.ids:\n",
        "        w = tokenizer.decode([t])\n",
        "        offsets.append((idx,idx+len(w)))\n",
        "        idx += len(w)\n",
        "    \n",
        "    #Start end tokens\n",
        "    toks = []\n",
        "    for i,(a,b) in enumerate(offsets):\n",
        "        sm = np.sum(chars[a:b])\n",
        "        if sm>0: toks.append(i) \n",
        "        \n",
        "    s_tok = sentiment_id[df_train.loc[k,\"sentiment\"]]\n",
        "    input_ids[k,:len(enc.ids)+5] = [0] + enc.ids + [2,2] + [s_tok] + [2]\n",
        "    attention_mask[k,:len(enc.ids)+5] = 1\n",
        "    if len(toks)>0:\n",
        "        start_tokens[k,toks[0]+1] = 1\n",
        "        end_tokens[k,toks[-1]+1] = 1"
      ],
      "execution_count": 0,
      "outputs": []
    },
    {
      "cell_type": "code",
      "metadata": {
        "id": "86Fs9M7nb1Lc",
        "colab_type": "code",
        "colab": {}
      },
      "source": [
        "input_ids_t = np.ones((df_test.shape[0],MAX_LEN),dtype = \"int32\")\n",
        "attention_mask_t = np.zeros((df_test.shape[0],MAX_LEN),dtype = \"int32\")\n",
        "token_type_ids_t = np.zeros((df_test.shape[0],MAX_LEN),dtype = \"int32\")"
      ],
      "execution_count": 0,
      "outputs": []
    },
    {
      "cell_type": "code",
      "metadata": {
        "id": "V5hQch0_Ex8M",
        "colab_type": "code",
        "colab": {}
      },
      "source": [
        "for k in range(df_test.shape[0]):\n",
        "        \n",
        "    #input id's\n",
        "    text1 = \" \"+\" \".join(df_test.loc[k,\"text\"].split())\n",
        "    enc = tokenizer.encode(text1)                \n",
        "    s_tok = sentiment_id[df_test.loc[k,\"sentiment\"]]\n",
        "    input_ids_t[k,:len(enc.ids)+5] = [0] + enc.ids + [2,2] + [s_tok] + [2]\n",
        "    attention_mask_t[k,:len(enc.ids)+5] = 1"
      ],
      "execution_count": 0,
      "outputs": []
    },
    {
      "cell_type": "code",
      "metadata": {
        "id": "J7tvw9FIGQf8",
        "colab_type": "code",
        "colab": {}
      },
      "source": [
        "import tensorflow as tf\n",
        "import tensorflow.keras.backend as K\n",
        "from sklearn.model_selection import StratifiedKFold"
      ],
      "execution_count": 0,
      "outputs": []
    },
    {
      "cell_type": "code",
      "metadata": {
        "id": "7H03KrtvcFPh",
        "colab_type": "code",
        "colab": {}
      },
      "source": [
        "def build_model():\n",
        "    ids = tf.keras.layers.Input((MAX_LEN,), dtype=tf.int32)\n",
        "    att = tf.keras.layers.Input((MAX_LEN,), dtype=tf.int32)\n",
        "    tok = tf.keras.layers.Input((MAX_LEN,), dtype=tf.int32)\n",
        "\n",
        "    config = RobertaConfig.from_pretrained(PATH + \"config-roberta-base.json\")\n",
        "    bert_model = TFRobertaModel.from_pretrained(PATH + \"pretrained-roberta-base.h5\",config=config)\n",
        "    x = bert_model(ids,attention_mask=att,token_type_ids = tok)\n",
        "    \n",
        "    x1 = tf.keras.layers.Dropout(0.1)(x[0]) \n",
        "    x1 = tf.keras.layers.Conv1D(256, 2,padding = \"same\")(x1)\n",
        "    x1 = tf.keras.layers.LeakyReLU()(x1)\n",
        "    x1 = tf.keras.layers.Conv1D(128, 2,padding = \"same\")(x1)\n",
        "    x1 = tf.keras.layers.Dense(1)(x1)\n",
        "    x1 = tf.keras.layers.Flatten()(x1)\n",
        "    x1 = tf.keras.layers.Activation(\"softmax\")(x1)\n",
        "    \n",
        "    x2 = tf.keras.layers.Dropout(0.1)(x[0]) \n",
        "    x2 = tf.keras.layers.Conv1D(256, 2, padding = \"same\")(x2)\n",
        "    x2 = tf.keras.layers.LeakyReLU()(x2)\n",
        "    x2 = tf.keras.layers.Conv1D(128, 2, padding = \"same\")(x2)\n",
        "    x2 = tf.keras.layers.Dense(1)(x2)\n",
        "    x2 = tf.keras.layers.Flatten()(x2)\n",
        "    x2 = tf.keras.layers.Activation(\"softmax\")(x2)\n",
        "\n",
        "    model = tf.keras.models.Model(inputs=[ids, att, tok], outputs=[x1,x2])\n",
        "    optimizer = tf.keras.optimizers.Adam(learning_rate=3e-5)\n",
        "    model.compile(loss = \"categorical_crossentropy\", optimizer=optimizer)\n",
        "\n",
        "    return model"
      ],
      "execution_count": 0,
      "outputs": []
    },
    {
      "cell_type": "code",
      "metadata": {
        "id": "7pUgiXj1cRax",
        "colab_type": "code",
        "colab": {}
      },
      "source": [
        "def jaccard(str1, str2): \n",
        "    a = set(str1.lower().split()) \n",
        "    b = set(str2.lower().split())\n",
        "    if (len(a)==0) & (len(b)==0): return 0.5\n",
        "    c = a.intersection(b)\n",
        "    return float(len(c)) / (len(a) + len(b) - len(c))"
      ],
      "execution_count": 0,
      "outputs": []
    },
    {
      "cell_type": "code",
      "metadata": {
        "id": "E_FWEtxYcU3J",
        "colab_type": "code",
        "outputId": "5463fd9c-98ab-4369-e400-5ee26393715a",
        "colab": {
          "base_uri": "https://localhost:8080/",
          "height": 1000
        }
      },
      "source": [
        "jac = []; VER=\"v0\"; DISPLAY=1 # USE display=1 FOR INTERACTIVE\n",
        "oof_start = np.zeros((input_ids.shape[0],MAX_LEN))\n",
        "oof_end = np.zeros((input_ids.shape[0],MAX_LEN))\n",
        "preds_start = np.zeros((input_ids_t.shape[0],MAX_LEN))\n",
        "preds_end = np.zeros((input_ids_t.shape[0],MAX_LEN))\n",
        "\n",
        "skf = StratifiedKFold(n_splits=5,shuffle=True,random_state=43)\n",
        "for fold,(idxT,idxV) in enumerate(skf.split(input_ids,df_train.sentiment.values)):\n",
        "\n",
        "    print(\"#@\"*25)\n",
        "    print(\"### FOLD %i\"%(fold+1))\n",
        "    print(\"#@\"*25)\n",
        "    \n",
        "    K.clear_session()\n",
        "    model = build_model()\n",
        "        \n",
        "    sv = tf.keras.callbacks.ModelCheckpoint(\n",
        "        \"%s-roberta-%i.h5\"%(VER,fold), monitor = \"val_loss\", verbose=1, save_best_only=True,\n",
        "        save_weights_only=True, mode = \"auto\", save_freq = \"epoch\")\n",
        "        \n",
        "    model.fit([input_ids[idxT,], attention_mask[idxT,], token_type_ids[idxT,]], [start_tokens[idxT,], end_tokens[idxT,]], \n",
        "        epochs=3, batch_size=32, verbose=DISPLAY, callbacks=[sv],\n",
        "        validation_data=([input_ids[idxV,],attention_mask[idxV,],token_type_ids[idxV,]], \n",
        "        [start_tokens[idxV,], end_tokens[idxV,]]))\n",
        "    \n",
        "    print(\"Loading the model\")\n",
        "    model.load_weights(\"%s-roberta-%i.h5\"%(VER,fold))\n",
        "    \n",
        "    print(\"Predicting OOF\")\n",
        "    oof_start[idxV,],oof_end[idxV,] = model.predict([input_ids[idxV,],attention_mask[idxV,],token_type_ids[idxV,]],verbose=DISPLAY)\n",
        "    \n",
        "    print(\"Predicting Test0\")\n",
        "    preds = model.predict([input_ids_t,attention_mask_t,token_type_ids_t],verbose=DISPLAY)\n",
        "    preds_start += preds[0]/skf.n_splits\n",
        "    preds_end += preds[1]/skf.n_splits\n",
        "    \n",
        "    #Displaying fold jaccard\n",
        "    all = []\n",
        "    for k in idxV:\n",
        "        a = np.argmax(oof_start[k,])\n",
        "        b = np.argmax(oof_end[k,])\n",
        "        if a>b: \n",
        "            st = df_train.loc[k,\"text\"]\n",
        "        else:\n",
        "            text1 = \" \"+\" \".join(df_train.loc[k,\"text\"].split())\n",
        "            enc = tokenizer.encode(text1)\n",
        "            st = tokenizer.decode(enc.ids[a-1:b])\n",
        "        all.append(jaccard(st,df_train.loc[k,\"selected_text\"]))\n",
        "    jac.append(np.mean(all))\n",
        "    print(\"FOLD %i Jaccard =\"%(fold+1),np.mean(all))\n",
        "    print()"
      ],
      "execution_count": 0,
      "outputs": [
        {
          "output_type": "stream",
          "text": [
            "#########################\n",
            "### FOLD 1\n",
            "#########################\n",
            "Epoch 1/3\n",
            "WARNING:tensorflow:Gradients do not exist for variables ['tf_roberta_model/roberta/pooler/dense/kernel:0', 'tf_roberta_model/roberta/pooler/dense/bias:0'] when minimizing the loss.\n",
            "WARNING:tensorflow:Gradients do not exist for variables ['tf_roberta_model/roberta/pooler/dense/kernel:0', 'tf_roberta_model/roberta/pooler/dense/bias:0'] when minimizing the loss.\n",
            "WARNING:tensorflow:Gradients do not exist for variables ['tf_roberta_model/roberta/pooler/dense/kernel:0', 'tf_roberta_model/roberta/pooler/dense/bias:0'] when minimizing the loss.\n",
            "WARNING:tensorflow:Gradients do not exist for variables ['tf_roberta_model/roberta/pooler/dense/kernel:0', 'tf_roberta_model/roberta/pooler/dense/bias:0'] when minimizing the loss.\n",
            "687/687 [==============================] - ETA: 0s - loss: 2.1140 - activation_loss: 1.0757 - activation_1_loss: 1.0383\n",
            "Epoch 00001: val_loss improved from inf to 1.69247, saving model to v0-roberta-0.h5\n",
            "687/687 [==============================] - 384s 558ms/step - loss: 2.1140 - activation_loss: 1.0757 - activation_1_loss: 1.0383 - val_loss: 1.6925 - val_activation_loss: 0.8529 - val_activation_1_loss: 0.8396\n",
            "Epoch 2/3\n",
            "687/687 [==============================] - ETA: 0s - loss: 1.6346 - activation_loss: 0.8397 - activation_1_loss: 0.7950\n",
            "Epoch 00002: val_loss improved from 1.69247 to 1.63287, saving model to v0-roberta-0.h5\n",
            "687/687 [==============================] - 383s 558ms/step - loss: 1.6346 - activation_loss: 0.8397 - activation_1_loss: 0.7950 - val_loss: 1.6329 - val_activation_loss: 0.8277 - val_activation_1_loss: 0.8051\n",
            "Epoch 3/3\n",
            "687/687 [==============================] - ETA: 0s - loss: 1.4962 - activation_loss: 0.7708 - activation_1_loss: 0.7254\n",
            "Epoch 00003: val_loss did not improve from 1.63287\n",
            "687/687 [==============================] - 379s 552ms/step - loss: 1.4962 - activation_loss: 0.7708 - activation_1_loss: 0.7254 - val_loss: 1.6654 - val_activation_loss: 0.8555 - val_activation_1_loss: 0.8099\n",
            "Loading model...\n",
            "Predicting OOF...\n",
            "172/172 [==============================] - 32s 183ms/step\n",
            "Predicting Test...\n",
            "111/111 [==============================] - 20s 182ms/step\n",
            ">>>> FOLD 1 Jaccard = 0.7076149409261128\n",
            "\n",
            "#########################\n",
            "### FOLD 2\n",
            "#########################\n",
            "Epoch 1/3\n",
            "WARNING:tensorflow:Gradients do not exist for variables ['tf_roberta_model/roberta/pooler/dense/kernel:0', 'tf_roberta_model/roberta/pooler/dense/bias:0'] when minimizing the loss.\n",
            "WARNING:tensorflow:Gradients do not exist for variables ['tf_roberta_model/roberta/pooler/dense/kernel:0', 'tf_roberta_model/roberta/pooler/dense/bias:0'] when minimizing the loss.\n",
            "WARNING:tensorflow:Gradients do not exist for variables ['tf_roberta_model/roberta/pooler/dense/kernel:0', 'tf_roberta_model/roberta/pooler/dense/bias:0'] when minimizing the loss.\n",
            "WARNING:tensorflow:Gradients do not exist for variables ['tf_roberta_model/roberta/pooler/dense/kernel:0', 'tf_roberta_model/roberta/pooler/dense/bias:0'] when minimizing the loss.\n",
            "688/688 [==============================] - ETA: 0s - loss: 2.1011 - activation_loss: 1.0726 - activation_1_loss: 1.0285\n",
            "Epoch 00001: val_loss improved from inf to 1.72092, saving model to v0-roberta-1.h5\n",
            "688/688 [==============================] - 395s 575ms/step - loss: 2.1011 - activation_loss: 1.0726 - activation_1_loss: 1.0285 - val_loss: 1.7209 - val_activation_loss: 0.8793 - val_activation_1_loss: 0.8416\n",
            "Epoch 2/3\n",
            "688/688 [==============================] - ETA: 0s - loss: 1.6361 - activation_loss: 0.8410 - activation_1_loss: 0.7952\n",
            "Epoch 00002: val_loss improved from 1.72092 to 1.62311, saving model to v0-roberta-1.h5\n",
            "688/688 [==============================] - 396s 575ms/step - loss: 1.6361 - activation_loss: 0.8410 - activation_1_loss: 0.7952 - val_loss: 1.6231 - val_activation_loss: 0.8511 - val_activation_1_loss: 0.7720\n",
            "Epoch 3/3\n",
            "688/688 [==============================] - ETA: 0s - loss: 1.4799 - activation_loss: 0.7632 - activation_1_loss: 0.7167\n",
            "Epoch 00003: val_loss did not improve from 1.62311\n",
            "688/688 [==============================] - 391s 569ms/step - loss: 1.4799 - activation_loss: 0.7632 - activation_1_loss: 0.7167 - val_loss: 1.6644 - val_activation_loss: 0.8745 - val_activation_1_loss: 0.7899\n",
            "Loading model...\n",
            "Predicting OOF...\n",
            "172/172 [==============================] - 31s 182ms/step\n",
            "Predicting Test...\n",
            "111/111 [==============================] - 20s 181ms/step\n",
            ">>>> FOLD 2 Jaccard = 0.7037940770681066\n",
            "\n",
            "#########################\n",
            "### FOLD 3\n",
            "#########################\n",
            "Epoch 1/3\n",
            "WARNING:tensorflow:Gradients do not exist for variables ['tf_roberta_model/roberta/pooler/dense/kernel:0', 'tf_roberta_model/roberta/pooler/dense/bias:0'] when minimizing the loss.\n",
            "WARNING:tensorflow:Gradients do not exist for variables ['tf_roberta_model/roberta/pooler/dense/kernel:0', 'tf_roberta_model/roberta/pooler/dense/bias:0'] when minimizing the loss.\n",
            "WARNING:tensorflow:Gradients do not exist for variables ['tf_roberta_model/roberta/pooler/dense/kernel:0', 'tf_roberta_model/roberta/pooler/dense/bias:0'] when minimizing the loss.\n",
            "WARNING:tensorflow:Gradients do not exist for variables ['tf_roberta_model/roberta/pooler/dense/kernel:0', 'tf_roberta_model/roberta/pooler/dense/bias:0'] when minimizing the loss.\n",
            "688/688 [==============================] - ETA: 0s - loss: 2.1443 - activation_loss: 1.0942 - activation_1_loss: 1.0501\n",
            "Epoch 00001: val_loss improved from inf to 1.65747, saving model to v0-roberta-2.h5\n",
            "688/688 [==============================] - 396s 575ms/step - loss: 2.1443 - activation_loss: 1.0942 - activation_1_loss: 1.0501 - val_loss: 1.6575 - val_activation_loss: 0.8445 - val_activation_1_loss: 0.8130\n",
            "Epoch 2/3\n",
            "688/688 [==============================] - ETA: 0s - loss: 1.6724 - activation_loss: 0.8585 - activation_1_loss: 0.8139\n",
            "Epoch 00002: val_loss improved from 1.65747 to 1.64683, saving model to v0-roberta-2.h5\n",
            "688/688 [==============================] - 396s 576ms/step - loss: 1.6724 - activation_loss: 0.8585 - activation_1_loss: 0.8139 - val_loss: 1.6468 - val_activation_loss: 0.8549 - val_activation_1_loss: 0.7919\n",
            "Epoch 3/3\n",
            "688/688 [==============================] - ETA: 0s - loss: 1.5266 - activation_loss: 0.7878 - activation_1_loss: 0.7387\n",
            "Epoch 00003: val_loss improved from 1.64683 to 1.59133, saving model to v0-roberta-2.h5\n",
            "688/688 [==============================] - 395s 575ms/step - loss: 1.5266 - activation_loss: 0.7878 - activation_1_loss: 0.7387 - val_loss: 1.5913 - val_activation_loss: 0.8236 - val_activation_1_loss: 0.7677\n",
            "Loading model...\n",
            "Predicting OOF...\n",
            "172/172 [==============================] - 31s 183ms/step\n",
            "Predicting Test...\n",
            "111/111 [==============================] - 20s 181ms/step\n",
            ">>>> FOLD 3 Jaccard = 0.7087598839267137\n",
            "\n",
            "#########################\n",
            "### FOLD 4\n",
            "#########################\n",
            "Epoch 1/3\n",
            "WARNING:tensorflow:Gradients do not exist for variables ['tf_roberta_model/roberta/pooler/dense/kernel:0', 'tf_roberta_model/roberta/pooler/dense/bias:0'] when minimizing the loss.\n",
            "WARNING:tensorflow:Gradients do not exist for variables ['tf_roberta_model/roberta/pooler/dense/kernel:0', 'tf_roberta_model/roberta/pooler/dense/bias:0'] when minimizing the loss.\n",
            "WARNING:tensorflow:Gradients do not exist for variables ['tf_roberta_model/roberta/pooler/dense/kernel:0', 'tf_roberta_model/roberta/pooler/dense/bias:0'] when minimizing the loss.\n",
            "WARNING:tensorflow:Gradients do not exist for variables ['tf_roberta_model/roberta/pooler/dense/kernel:0', 'tf_roberta_model/roberta/pooler/dense/bias:0'] when minimizing the loss.\n",
            "688/688 [==============================] - ETA: 0s - loss: 2.1101 - activation_loss: 1.0804 - activation_1_loss: 1.0297\n",
            "Epoch 00001: val_loss improved from inf to 1.72188, saving model to v0-roberta-3.h5\n",
            "688/688 [==============================] - 395s 574ms/step - loss: 2.1101 - activation_loss: 1.0804 - activation_1_loss: 1.0297 - val_loss: 1.7219 - val_activation_loss: 0.8609 - val_activation_1_loss: 0.8610\n",
            "Epoch 2/3\n",
            "688/688 [==============================] - ETA: 0s - loss: 1.6342 - activation_loss: 0.8505 - activation_1_loss: 0.7837\n",
            "Epoch 00002: val_loss improved from 1.72188 to 1.65679, saving model to v0-roberta-3.h5\n",
            "688/688 [==============================] - 395s 574ms/step - loss: 1.6342 - activation_loss: 0.8505 - activation_1_loss: 0.7837 - val_loss: 1.6568 - val_activation_loss: 0.8284 - val_activation_1_loss: 0.8284\n",
            "Epoch 3/3\n",
            "688/688 [==============================] - ETA: 0s - loss: 1.4904 - activation_loss: 0.7776 - activation_1_loss: 0.7128\n",
            "Epoch 00003: val_loss improved from 1.65679 to 1.63893, saving model to v0-roberta-3.h5\n",
            "688/688 [==============================] - 395s 574ms/step - loss: 1.4904 - activation_loss: 0.7776 - activation_1_loss: 0.7128 - val_loss: 1.6389 - val_activation_loss: 0.8213 - val_activation_1_loss: 0.8177\n",
            "Loading model...\n",
            "Predicting OOF...\n",
            "172/172 [==============================] - 32s 184ms/step\n",
            "Predicting Test...\n",
            "111/111 [==============================] - 20s 181ms/step\n",
            ">>>> FOLD 4 Jaccard = 0.7096819591619274\n",
            "\n",
            "#########################\n",
            "### FOLD 5\n",
            "#########################\n",
            "Epoch 1/3\n",
            "WARNING:tensorflow:Gradients do not exist for variables ['tf_roberta_model/roberta/pooler/dense/kernel:0', 'tf_roberta_model/roberta/pooler/dense/bias:0'] when minimizing the loss.\n",
            "WARNING:tensorflow:Gradients do not exist for variables ['tf_roberta_model/roberta/pooler/dense/kernel:0', 'tf_roberta_model/roberta/pooler/dense/bias:0'] when minimizing the loss.\n",
            "WARNING:tensorflow:Gradients do not exist for variables ['tf_roberta_model/roberta/pooler/dense/kernel:0', 'tf_roberta_model/roberta/pooler/dense/bias:0'] when minimizing the loss.\n",
            "WARNING:tensorflow:Gradients do not exist for variables ['tf_roberta_model/roberta/pooler/dense/kernel:0', 'tf_roberta_model/roberta/pooler/dense/bias:0'] when minimizing the loss.\n",
            "688/688 [==============================] - ETA: 0s - loss: 2.1322 - activation_loss: 1.0919 - activation_1_loss: 1.0403\n",
            "Epoch 00001: val_loss improved from inf to 1.71945, saving model to v0-roberta-4.h5\n",
            "688/688 [==============================] - 398s 578ms/step - loss: 2.1322 - activation_loss: 1.0919 - activation_1_loss: 1.0403 - val_loss: 1.7194 - val_activation_loss: 0.8998 - val_activation_1_loss: 0.8197\n",
            "Epoch 2/3\n",
            "688/688 [==============================] - ETA: 0s - loss: 1.6401 - activation_loss: 0.8421 - activation_1_loss: 0.7980\n",
            "Epoch 00002: val_loss improved from 1.71945 to 1.69523, saving model to v0-roberta-4.h5\n",
            "688/688 [==============================] - 398s 579ms/step - loss: 1.6401 - activation_loss: 0.8421 - activation_1_loss: 0.7980 - val_loss: 1.6952 - val_activation_loss: 0.8812 - val_activation_1_loss: 0.8140\n",
            "Epoch 3/3\n",
            "688/688 [==============================] - ETA: 0s - loss: 1.5095 - activation_loss: 0.7757 - activation_1_loss: 0.7339\n",
            "Epoch 00003: val_loss improved from 1.69523 to 1.68723, saving model to v0-roberta-4.h5\n",
            "688/688 [==============================] - 399s 580ms/step - loss: 1.5095 - activation_loss: 0.7757 - activation_1_loss: 0.7339 - val_loss: 1.6872 - val_activation_loss: 0.8644 - val_activation_1_loss: 0.8228\n",
            "Loading model...\n",
            "Predicting OOF...\n",
            "172/172 [==============================] - 32s 183ms/step\n",
            "Predicting Test...\n",
            "111/111 [==============================] - 20s 182ms/step\n",
            ">>>> FOLD 5 Jaccard = 0.6981486268573044\n",
            "\n"
          ],
          "name": "stdout"
        }
      ]
    },
    {
      "cell_type": "code",
      "metadata": {
        "id": "BCNv-xibcvgC",
        "colab_type": "code",
        "outputId": "8e7a471a-61ef-43a5-aefe-b9f02bf084dc",
        "colab": {
          "base_uri": "https://localhost:8080/",
          "height": 35
        }
      },
      "source": [
        "print(\"overall 5fold cv Jaccard =\",np.mean(jac))"
      ],
      "execution_count": 0,
      "outputs": [
        {
          "output_type": "stream",
          "text": [
            "overall 5fold cv Jaccard = 0.705599897588033\n"
          ],
          "name": "stdout"
        }
      ]
    },
    {
      "cell_type": "code",
      "metadata": {
        "id": "Mp2dVIz6cwr4",
        "colab_type": "code",
        "colab": {}
      },
      "source": [
        "all = []\n",
        "for k in range(input_ids_t.shape[0]):\n",
        "    a = np.argmax(preds_start[k,])\n",
        "    b = np.argmax(preds_end[k,])\n",
        "    if a>b: \n",
        "        st = df_test.loc[k,\"text\"]\n",
        "    else:\n",
        "        text1 = \" \"+\" \".join(df_test.loc[k,\"text\"].split())\n",
        "        enc = tokenizer.encode(text1)\n",
        "        st = tokenizer.decode(enc.ids[a-1:b])\n",
        "    all.append(st)"
      ],
      "execution_count": 0,
      "outputs": []
    },
    {
      "cell_type": "code",
      "metadata": {
        "id": "1NTy_dyec7hW",
        "colab_type": "code",
        "outputId": "050cbcad-6ea4-47d7-c984-d7d26266d426",
        "colab": {
          "base_uri": "https://localhost:8080/",
          "height": 834
        }
      },
      "source": [
        "df_test[\"selected_text\"] = all\n",
        "df_test[[\"textID\",\"selected_text\"]].to_csv(\"submission.csv\",index=False)\n",
        "pd.set_option(\"max_colwidth\", 60)\n",
        "df_test.sample(25)"
      ],
      "execution_count": 0,
      "outputs": [
        {
          "output_type": "execute_result",
          "data": {
            "text/html": [
              "<div>\n",
              "<style scoped>\n",
              "    .dataframe tbody tr th:only-of-type {\n",
              "        vertical-align: middle;\n",
              "    }\n",
              "\n",
              "    .dataframe tbody tr th {\n",
              "        vertical-align: top;\n",
              "    }\n",
              "\n",
              "    .dataframe thead th {\n",
              "        text-align: right;\n",
              "    }\n",
              "</style>\n",
              "<table border=\"1\" class=\"dataframe\">\n",
              "  <thead>\n",
              "    <tr style=\"text-align: right;\">\n",
              "      <th></th>\n",
              "      <th>textID</th>\n",
              "      <th>text</th>\n",
              "      <th>sentiment</th>\n",
              "      <th>selected_text</th>\n",
              "    </tr>\n",
              "  </thead>\n",
              "  <tbody>\n",
              "    <tr>\n",
              "      <th>580</th>\n",
              "      <td>303a1773cf</td>\n",
              "      <td>every day of my life lately.    i feel ya girl &lt;3</td>\n",
              "      <td>neutral</td>\n",
              "      <td>every day of my life lately. i feel ya girl &lt;3</td>\n",
              "    </tr>\n",
              "    <tr>\n",
              "      <th>1942</th>\n",
              "      <td>79c57e46eb</td>\n",
              "      <td>Hey, sorry I got off last night!</td>\n",
              "      <td>negative</td>\n",
              "      <td>sorry</td>\n",
              "    </tr>\n",
              "    <tr>\n",
              "      <th>289</th>\n",
              "      <td>e2505e6219</td>\n",
              "      <td>#SanctuarySunday  thanks for joining on #SanctuarySunday...</td>\n",
              "      <td>positive</td>\n",
              "      <td>thanks</td>\n",
              "    </tr>\n",
              "    <tr>\n",
              "      <th>1484</th>\n",
              "      <td>8ba9d3448f</td>\n",
              "      <td>#warmfuzzies to you, my friend</td>\n",
              "      <td>positive</td>\n",
              "      <td>#warmfuzzies to you, my friend</td>\n",
              "    </tr>\n",
              "    <tr>\n",
              "      <th>1899</th>\n",
              "      <td>646d1df036</td>\n",
              "      <td>@_Freya Good Night</td>\n",
              "      <td>positive</td>\n",
              "      <td>good night</td>\n",
              "    </tr>\n",
              "    <tr>\n",
              "      <th>359</th>\n",
              "      <td>ddbc8dba62</td>\n",
              "      <td>@ lovelytrinkets I like the way you worded that about Ro...</td>\n",
              "      <td>positive</td>\n",
              "      <td>like</td>\n",
              "    </tr>\n",
              "    <tr>\n",
              "      <th>2655</th>\n",
              "      <td>9f69f15ca6</td>\n",
              "      <td>what`s the matter?</td>\n",
              "      <td>neutral</td>\n",
              "      <td>what`s the matter?</td>\n",
              "    </tr>\n",
              "    <tr>\n",
              "      <th>558</th>\n",
              "      <td>a4388148b8</td>\n",
              "      <td>hahaha n I`m a do the same for u</td>\n",
              "      <td>neutral</td>\n",
              "      <td>hahaha n i`m a do the same for u</td>\n",
              "    </tr>\n",
              "    <tr>\n",
              "      <th>2814</th>\n",
              "      <td>d6606e8167</td>\n",
              "      <td>Bout to knock out. Feelin a lil sick  peace y`all</td>\n",
              "      <td>negative</td>\n",
              "      <td>sick</td>\n",
              "    </tr>\n",
              "    <tr>\n",
              "      <th>1389</th>\n",
              "      <td>8255b23e72</td>\n",
              "      <td>I`m not ready for my baby to be 3 tomorrow  she is growi...</td>\n",
              "      <td>positive</td>\n",
              "      <td>she is growing so fast....</td>\n",
              "    </tr>\n",
              "    <tr>\n",
              "      <th>268</th>\n",
              "      <td>aff740a028</td>\n",
              "      <td>09/09 +full moon+ my lovely friends and family= my b-day...</td>\n",
              "      <td>positive</td>\n",
              "      <td>lovely friends and family= my b-day wish came true;)&lt;3 ...</td>\n",
              "    </tr>\n",
              "    <tr>\n",
              "      <th>859</th>\n",
              "      <td>aa17c6f797</td>\n",
              "      <td>_buckley Good morning from sunny London...sounds like an...</td>\n",
              "      <td>positive</td>\n",
              "      <td>good morning from sunny london...sounds like an oxymoro...</td>\n",
              "    </tr>\n",
              "    <tr>\n",
              "      <th>1412</th>\n",
              "      <td>92866f7b8c</td>\n",
              "      <td>Thank you!</td>\n",
              "      <td>positive</td>\n",
              "      <td>thank you!</td>\n",
              "    </tr>\n",
              "    <tr>\n",
              "      <th>50</th>\n",
              "      <td>cf3b068b03</td>\n",
              "      <td>Is watching acoustic performances! &amp; In the mood for a g...</td>\n",
              "      <td>neutral</td>\n",
              "      <td>is watching acoustic performances! &amp; in the mood for a ...</td>\n",
              "    </tr>\n",
              "    <tr>\n",
              "      <th>1532</th>\n",
              "      <td>d546f8c422</td>\n",
              "      <td>Amazing day with my boyfriend. He`s a good drummer.</td>\n",
              "      <td>positive</td>\n",
              "      <td>amazing</td>\n",
              "    </tr>\n",
              "    <tr>\n",
              "      <th>2525</th>\n",
              "      <td>94f554867c</td>\n",
              "      <td>Just got a call from my Realtor saying I have another sh...</td>\n",
              "      <td>positive</td>\n",
              "      <td>interest.</td>\n",
              "    </tr>\n",
              "    <tr>\n",
              "      <th>2078</th>\n",
              "      <td>20a5175d49</td>\n",
              "      <td>I will have to see the unveiling of your new LR arrange...</td>\n",
              "      <td>neutral</td>\n",
              "      <td>i will have to see the unveiling of your new lr arrange...</td>\n",
              "    </tr>\n",
              "    <tr>\n",
              "      <th>1161</th>\n",
              "      <td>88c7658eb5</td>\n",
              "      <td>I ate too many kisses.</td>\n",
              "      <td>negative</td>\n",
              "      <td>i ate too many kisses.</td>\n",
              "    </tr>\n",
              "    <tr>\n",
              "      <th>867</th>\n",
              "      <td>e5a26fb323</td>\n",
              "      <td>lol! woow okay its not that big of a deal</td>\n",
              "      <td>neutral</td>\n",
              "      <td>lol! woow okay its not that big of a deal</td>\n",
              "    </tr>\n",
              "    <tr>\n",
              "      <th>1344</th>\n",
              "      <td>85eb03d6b8</td>\n",
              "      <td>Cant Thank YOu Enough, WHo is NITIN BETWEEN?</td>\n",
              "      <td>positive</td>\n",
              "      <td>cant thank you enough,</td>\n",
              "    </tr>\n",
              "    <tr>\n",
              "      <th>25</th>\n",
              "      <td>c50bdd4567</td>\n",
              "      <td>thats so cool</td>\n",
              "      <td>positive</td>\n",
              "      <td>thats so cool</td>\n",
              "    </tr>\n",
              "    <tr>\n",
              "      <th>2171</th>\n",
              "      <td>30e7967de4</td>\n",
              "      <td>To every mom, mommy and mother, Happy Mother`s Day   Hop...</td>\n",
              "      <td>positive</td>\n",
              "      <td>happy</td>\n",
              "    </tr>\n",
              "    <tr>\n",
              "      <th>2873</th>\n",
              "      <td>34533b5903</td>\n",
              "      <td>FINALLY-- Now I am me again.  I had to use internet expl...</td>\n",
              "      <td>neutral</td>\n",
              "      <td>finally-- now i am me again. i had to use internet expl...</td>\n",
              "    </tr>\n",
              "    <tr>\n",
              "      <th>2051</th>\n",
              "      <td>c625cee17b</td>\n",
              "      <td>you might also want to include 'never wear a moonwolf' ...</td>\n",
              "      <td>neutral</td>\n",
              "      <td>you might also want to include 'never wear a moonwolf' ...</td>\n",
              "    </tr>\n",
              "    <tr>\n",
              "      <th>910</th>\n",
              "      <td>ff9722bca7</td>\n",
              "      <td>Blah to car repairs... almost 600 dollars...   Shopping ...</td>\n",
              "      <td>negative</td>\n",
              "      <td>blah</td>\n",
              "    </tr>\n",
              "  </tbody>\n",
              "</table>\n",
              "</div>"
            ],
            "text/plain": [
              "          textID  ...                                                selected_text\n",
              "580   303a1773cf  ...               every day of my life lately. i feel ya girl <3\n",
              "1942  79c57e46eb  ...                                                        sorry\n",
              "289   e2505e6219  ...                                                       thanks\n",
              "1484  8ba9d3448f  ...                               #warmfuzzies to you, my friend\n",
              "1899  646d1df036  ...                                                   good night\n",
              "359   ddbc8dba62  ...                                                         like\n",
              "2655  9f69f15ca6  ...                                           what`s the matter?\n",
              "558   a4388148b8  ...                             hahaha n i`m a do the same for u\n",
              "2814  d6606e8167  ...                                                         sick\n",
              "1389  8255b23e72  ...                                   she is growing so fast....\n",
              "268   aff740a028  ...   lovely friends and family= my b-day wish came true;)<3 ...\n",
              "859   aa17c6f797  ...   good morning from sunny london...sounds like an oxymoro...\n",
              "1412  92866f7b8c  ...                                                   thank you!\n",
              "50    cf3b068b03  ...   is watching acoustic performances! & in the mood for a ...\n",
              "1532  d546f8c422  ...                                                      amazing\n",
              "2525  94f554867c  ...                                                    interest.\n",
              "2078  20a5175d49  ...   i will have to see the unveiling of your new lr arrange...\n",
              "1161  88c7658eb5  ...                                       i ate too many kisses.\n",
              "867   e5a26fb323  ...                    lol! woow okay its not that big of a deal\n",
              "1344  85eb03d6b8  ...                                       cant thank you enough,\n",
              "25    c50bdd4567  ...                                                thats so cool\n",
              "2171  30e7967de4  ...                                                        happy\n",
              "2873  34533b5903  ...   finally-- now i am me again. i had to use internet expl...\n",
              "2051  c625cee17b  ...   you might also want to include 'never wear a moonwolf' ...\n",
              "910   ff9722bca7  ...                                                         blah\n",
              "\n",
              "[25 rows x 4 columns]"
            ]
          },
          "metadata": {
            "tags": []
          },
          "execution_count": 27
        }
      ]
    },
    {
      "cell_type": "code",
      "metadata": {
        "id": "M9OY4OcJ8YJV",
        "colab_type": "code",
        "colab": {}
      },
      "source": [
        ""
      ],
      "execution_count": 0,
      "outputs": []
    }
  ]
}